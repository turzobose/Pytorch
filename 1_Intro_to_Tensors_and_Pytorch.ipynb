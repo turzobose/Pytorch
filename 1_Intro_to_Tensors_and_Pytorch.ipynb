{
  "nbformat": 4,
  "nbformat_minor": 0,
  "metadata": {
    "colab": {
      "name": "1. Intro to Tensors and Pytorch.ipynb",
      "provenance": [],
      "authorship_tag": "ABX9TyPRBBK7ZqKn7cQoAVASO5ve"
    },
    "kernelspec": {
      "name": "python3",
      "display_name": "Python 3"
    }
  },
  "cells": [
    {
      "cell_type": "code",
      "metadata": {
        "colab": {
          "base_uri": "https://localhost:8080/"
        },
        "id": "hGH11O9vtVKD",
        "outputId": "65838814-4320-48b0-8add-c6d4204135f0"
      },
      "source": [
        "import torch\n",
        "\n",
        "x = torch.Tensor([5,3])\n",
        "y = torch.Tensor([2,1])\n",
        "\n",
        "print(x*y)"
      ],
      "execution_count": 2,
      "outputs": [
        {
          "output_type": "stream",
          "text": [
            "tensor([10.,  3.])\n"
          ],
          "name": "stdout"
        }
      ]
    },
    {
      "cell_type": "code",
      "metadata": {
        "colab": {
          "base_uri": "https://localhost:8080/"
        },
        "id": "ykjanGuPwegY",
        "outputId": "7d22644f-effe-4775-b0d9-341e89801aee"
      },
      "source": [
        "x = torch.zeros([2,5])\n",
        "print(x)"
      ],
      "execution_count": 4,
      "outputs": [
        {
          "output_type": "stream",
          "text": [
            "tensor([[0., 0., 0., 0., 0.],\n",
            "        [0., 0., 0., 0., 0.]])\n"
          ],
          "name": "stdout"
        }
      ]
    },
    {
      "cell_type": "code",
      "metadata": {
        "colab": {
          "base_uri": "https://localhost:8080/"
        },
        "id": "W10niGR6wqe2",
        "outputId": "9a81eb5e-2fa9-4453-e673-e2d1fbcbc217"
      },
      "source": [
        "x.shape"
      ],
      "execution_count": 5,
      "outputs": [
        {
          "output_type": "execute_result",
          "data": {
            "text/plain": [
              "torch.Size([2, 5])"
            ]
          },
          "metadata": {
            "tags": []
          },
          "execution_count": 5
        }
      ]
    },
    {
      "cell_type": "code",
      "metadata": {
        "colab": {
          "base_uri": "https://localhost:8080/"
        },
        "id": "SCSkhWaXwtv_",
        "outputId": "483991e0-d7af-4f1e-ad49-b5be3436378e"
      },
      "source": [
        "y = torch.rand([2,5])\n",
        "y"
      ],
      "execution_count": 7,
      "outputs": [
        {
          "output_type": "execute_result",
          "data": {
            "text/plain": [
              "tensor([[0.8747, 0.0306, 0.9826, 0.6844, 0.8052],\n",
              "        [0.9425, 0.0411, 0.8894, 0.8861, 0.7833]])"
            ]
          },
          "metadata": {
            "tags": []
          },
          "execution_count": 7
        }
      ]
    },
    {
      "cell_type": "code",
      "metadata": {
        "colab": {
          "base_uri": "https://localhost:8080/"
        },
        "id": "bZQPgiVZwyE4",
        "outputId": "fed1b473-0aac-4310-e96f-886cd9ed2799"
      },
      "source": [
        "#Flattening operation: Same as reshape on Tensorflow\n",
        "y.view([1,10])"
      ],
      "execution_count": 8,
      "outputs": [
        {
          "output_type": "execute_result",
          "data": {
            "text/plain": [
              "tensor([[0.8747, 0.0306, 0.9826, 0.6844, 0.8052, 0.9425, 0.0411, 0.8894, 0.8861,\n",
              "         0.7833]])"
            ]
          },
          "metadata": {
            "tags": []
          },
          "execution_count": 8
        }
      ]
    },
    {
      "cell_type": "code",
      "metadata": {
        "colab": {
          "base_uri": "https://localhost:8080/"
        },
        "id": "0ZgrhJv1xGbF",
        "outputId": "06eed110-0ce2-4f94-d744-3404115252c1"
      },
      "source": [
        "#Remember view method is pass by value, not reference\n",
        "y"
      ],
      "execution_count": 9,
      "outputs": [
        {
          "output_type": "execute_result",
          "data": {
            "text/plain": [
              "tensor([[0.8747, 0.0306, 0.9826, 0.6844, 0.8052],\n",
              "        [0.9425, 0.0411, 0.8894, 0.8861, 0.7833]])"
            ]
          },
          "metadata": {
            "tags": []
          },
          "execution_count": 9
        }
      ]
    },
    {
      "cell_type": "code",
      "metadata": {
        "colab": {
          "base_uri": "https://localhost:8080/"
        },
        "id": "l1GNbC0LxIIL",
        "outputId": "709d5d59-4740-4b92-da62-4828aa6aec54"
      },
      "source": [
        "y = y.view([1,10]) #Show me the view of y as [1,10]\n",
        "y"
      ],
      "execution_count": 11,
      "outputs": [
        {
          "output_type": "execute_result",
          "data": {
            "text/plain": [
              "tensor([[0.8747, 0.0306, 0.9826, 0.6844, 0.8052, 0.9425, 0.0411, 0.8894, 0.8861,\n",
              "         0.7833]])"
            ]
          },
          "metadata": {
            "tags": []
          },
          "execution_count": 11
        }
      ]
    },
    {
      "cell_type": "code",
      "metadata": {
        "colab": {
          "base_uri": "https://localhost:8080/"
        },
        "id": "HtSat9Dwxcae",
        "outputId": "bd2a20ee-9afe-40a0-ad15-63861119315d"
      },
      "source": [
        "y.shape"
      ],
      "execution_count": 12,
      "outputs": [
        {
          "output_type": "execute_result",
          "data": {
            "text/plain": [
              "torch.Size([1, 10])"
            ]
          },
          "metadata": {
            "tags": []
          },
          "execution_count": 12
        }
      ]
    },
    {
      "cell_type": "code",
      "metadata": {
        "id": "KoypEuZbxn7N"
      },
      "source": [
        ""
      ],
      "execution_count": null,
      "outputs": []
    }
  ]
}