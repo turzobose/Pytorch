{
  "nbformat": 4,
  "nbformat_minor": 0,
  "metadata": {
    "colab": {
      "name": "5. ConvNet.ipynb",
      "provenance": [],
      "collapsed_sections": [],
      "authorship_tag": "ABX9TyP51LWpM/QYN0cY0DxUqxx1"
    },
    "kernelspec": {
      "name": "python3",
      "display_name": "Python 3"
    }
  },
  "cells": [
    {
      "cell_type": "code",
      "metadata": {
        "colab": {
          "base_uri": "https://localhost:8080/"
        },
        "id": "IYCO0szgX_pi",
        "outputId": "3e3fe521-e270-4700-a250-1f135a53b11a"
      },
      "source": [
        "from google.colab import drive\n",
        "drive.mount('/content/drive')"
      ],
      "execution_count": 33,
      "outputs": [
        {
          "output_type": "stream",
          "text": [
            "Drive already mounted at /content/drive; to attempt to forcibly remount, call drive.mount(\"/content/drive\", force_remount=True).\n"
          ],
          "name": "stdout"
        }
      ]
    },
    {
      "cell_type": "code",
      "metadata": {
        "colab": {
          "base_uri": "https://localhost:8080/"
        },
        "id": "NGY078zLLkBR",
        "outputId": "6ab6ea7d-9551-4acc-ff7f-28a9e2832776"
      },
      "source": [
        "import cv2, os\n",
        "import numpy as np\n",
        "from tqdm import tqdm\n",
        "\n",
        "REBUILD_DATA = False\n",
        "\n",
        "class DogsVCats():\n",
        "    img_size = 50\n",
        "    cats = \"PetImages/Cat\"\n",
        "    dogs = \"PetImages/Dog\"\n",
        "    labels = {cats: 0, dogs: 1}\n",
        "\n",
        "    training_data = []\n",
        "    catcount = 0\n",
        "    dogcount = 0\n",
        "\n",
        "    def make_training_data(self):\n",
        "        for label in self.labels:\n",
        "            print(label)\n",
        "            for image in tqdm(os.listdir(label)):\n",
        "                try:\n",
        "                    path = os.path.join(label, image)\n",
        "                    img = cv2.imread(path, cv2.IMREAD_GRAYSCALE)\n",
        "                    img = cv2.resize(img, (self.img_size, self.img_size))\n",
        "                    self.training_data.append([np.array(img), \n",
        "                                              np.eye(2)[self.labels[label]]])\n",
        "                    \n",
        "                    if label == self.cats:\n",
        "                      self.catcount += 1\n",
        "                    elif label == self.dogs:\n",
        "                      self.dogcount += 1\n",
        "                \n",
        "                except Exception as e:\n",
        "                    pass\n",
        "        \n",
        "        np.random.shuffle(self.training_data)\n",
        "        np.save(\"training_data.npy\", self.training_data)\n",
        "        print(\"Cats: \", self.catcount)\n",
        "        print(\"Dogs: \", self.dogcount)\n",
        "\n",
        "if REBUILD_DATA:\n",
        "    dogsvcats = DogsVCats()\n",
        "    dogsvcats.make_training_data()\n"
      ],
      "execution_count": 36,
      "outputs": [
        {
          "output_type": "stream",
          "text": [
            "  0%|          | 44/12501 [00:00<00:28, 433.27it/s]"
          ],
          "name": "stderr"
        },
        {
          "output_type": "stream",
          "text": [
            "PetImages/Cat\n"
          ],
          "name": "stdout"
        },
        {
          "output_type": "stream",
          "text": [
            "100%|██████████| 12501/12501 [00:15<00:00, 784.64it/s]\n",
            "  1%|          | 63/12501 [00:00<00:19, 624.92it/s]"
          ],
          "name": "stderr"
        },
        {
          "output_type": "stream",
          "text": [
            "PetImages/Dog\n"
          ],
          "name": "stdout"
        },
        {
          "output_type": "stream",
          "text": [
            "100%|██████████| 12501/12501 [00:17<00:00, 725.04it/s]\n"
          ],
          "name": "stderr"
        },
        {
          "output_type": "stream",
          "text": [
            "Cats:  12476\n",
            "Dogs:  12470\n"
          ],
          "name": "stdout"
        }
      ]
    },
    {
      "cell_type": "code",
      "metadata": {
        "id": "o76500BwTC70"
      },
      "source": [
        "training_data = np.load(\"training_data.npy\", allow_pickle=True)"
      ],
      "execution_count": 38,
      "outputs": []
    },
    {
      "cell_type": "code",
      "metadata": {
        "colab": {
          "base_uri": "https://localhost:8080/"
        },
        "id": "9FmpERT9mEhA",
        "outputId": "9229da5d-6799-42c3-9c7b-ce95e151a503"
      },
      "source": [
        "print(len(training_data))"
      ],
      "execution_count": 39,
      "outputs": [
        {
          "output_type": "stream",
          "text": [
            "24946\n"
          ],
          "name": "stdout"
        }
      ]
    },
    {
      "cell_type": "code",
      "metadata": {
        "colab": {
          "base_uri": "https://localhost:8080/",
          "height": 420
        },
        "id": "f56Z8LWfmMLr",
        "outputId": "71c906f0-6a81-452c-c64c-fe9f7f6598f2"
      },
      "source": [
        "print(training_data[1])\n",
        "import matplotlib.pyplot as plt\n",
        "\n",
        "%matplotlib inline\n",
        "\n",
        "plt.imshow(training_data[1][0], cmap = 'gray')\n"
      ],
      "execution_count": 47,
      "outputs": [
        {
          "output_type": "stream",
          "text": [
            "[array([[ 29,  20,  20, ...,  38,  39,  32],\n",
            "       [ 28,  18,  20, ...,  36,  32,  33],\n",
            "       [ 20,  20,  20, ...,  28,  30,  23],\n",
            "       ...,\n",
            "       [ 63,  60,  64, ..., 123, 119, 120],\n",
            "       [ 54,  55,  69, ..., 114, 120, 120],\n",
            "       [ 48,  54,  66, ..., 111, 116, 108]], dtype=uint8)\n",
            " array([0., 1.])]\n"
          ],
          "name": "stdout"
        },
        {
          "output_type": "execute_result",
          "data": {
            "text/plain": [
              "<matplotlib.image.AxesImage at 0x7f2f58457c88>"
            ]
          },
          "metadata": {
            "tags": []
          },
          "execution_count": 47
        },
        {
          "output_type": "display_data",
          "data": {
            "image/png": "[encoded data removed]",
            "text/plain": [
              "<Figure size 432x288 with 1 Axes>"
            ]
          },
          "metadata": {
            "tags": [],
            "needs_background": "light"
          }
        }
      ]
    },
    {
      "cell_type": "code",
      "metadata": {
        "id": "ui5FgfygmQyu"
      },
      "source": [
        ""
      ],
      "execution_count": null,
      "outputs": []
    }
  ]
}