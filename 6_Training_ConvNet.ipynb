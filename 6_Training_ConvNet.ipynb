{
  "nbformat": 4,
  "nbformat_minor": 0,
  "metadata": {
    "colab": {
      "name": "6. Training ConvNet.ipynb",
      "provenance": [],
      "collapsed_sections": [],
      "authorship_tag": "ABX9TyO9NftQCIYtWC8wohujMBS8"
    },
    "kernelspec": {
      "name": "python3",
      "display_name": "Python 3"
    }
  },
  "cells": [
    {
      "cell_type": "code",
      "metadata": {
        "colab": {
          "base_uri": "https://localhost:8080/"
        },
        "id": "IYCO0szgX_pi",
        "outputId": "62eb3e5b-5099-48fd-81f8-d3b9dd575aff"
      },
      "source": [
        "from google.colab import drive\n",
        "drive.mount('/content/drive')"
      ],
      "execution_count": 46,
      "outputs": [
        {
          "output_type": "stream",
          "text": [
            "Mounted at /content/drive\n"
          ],
          "name": "stdout"
        }
      ]
    },
    {
      "cell_type": "code",
      "metadata": {
        "colab": {
          "base_uri": "https://localhost:8080/"
        },
        "id": "lLznNWHZe5o_",
        "outputId": "4b6e96ae-297c-4365-ae8c-68e85df20e0a"
      },
      "source": [
        "#!unzip \"drive/MyDrive/Colab Notebooks/datasets/kagglecatsanddogs_3367a.zip\" -d \"drive/MyDrive/Colab Notebooks/datasets/\" -y"
      ],
      "execution_count": 52,
      "outputs": [
        {
          "output_type": "stream",
          "text": [
            "Archive:  drive/MyDrive/Colab Notebooks/datasets/kagglecatsanddogs_3367a.zip\n",
            "caution: filename not matched:  -y\n"
          ],
          "name": "stdout"
        }
      ]
    },
    {
      "cell_type": "code",
      "metadata": {
        "colab": {
          "base_uri": "https://localhost:8080/"
        },
        "id": "NGY078zLLkBR",
        "outputId": "d6c47e27-99ab-4d64-ffdb-862153406bc9"
      },
      "source": [
        "import cv2, os\n",
        "import numpy as np\n",
        "from tqdm import tqdm\n",
        "\n",
        "REBUILD_DATA = False\n",
        "\n",
        "class DogsVCats():\n",
        "    img_size = 50\n",
        "    cats = \"drive/MyDrive/Colab Notebooks/datasets/PetImages/Cat\"\n",
        "    dogs = \"drive/MyDrive/Colab Notebooks/datasets/PetImages/Dog\"\n",
        "    labels = {cats: 0, dogs: 1}\n",
        "\n",
        "    training_data = []\n",
        "    catcount = 0\n",
        "    dogcount = 0\n",
        "\n",
        "    def make_training_data(self):\n",
        "        for label in self.labels:\n",
        "            print(label)\n",
        "            for image in tqdm(os.listdir(label)):\n",
        "                try:\n",
        "                    path = os.path.join(label, image)\n",
        "                    img = cv2.imread(path, cv2.IMREAD_GRAYSCALE)\n",
        "                    img = cv2.resize(img, (self.img_size, self.img_size))\n",
        "                    self.training_data.append([np.array(img), \n",
        "                                              np.eye(2)[self.labels[label]]])\n",
        "                    \n",
        "                    if label == self.cats:\n",
        "                      self.catcount += 1\n",
        "                    elif label == self.dogs:\n",
        "                      self.dogcount += 1\n",
        "                \n",
        "                except Exception as e:\n",
        "                    pass\n",
        "        \n",
        "        np.random.shuffle(self.training_data)\n",
        "        np.save(\"drive/MyDrive/Colab Notebooks/datasets/training_data.npy\", self.training_data)\n",
        "        print(\"Cats: \", self.catcount)\n",
        "        print(\"Dogs: \", self.dogcount)\n",
        "\n",
        "if REBUILD_DATA:\n",
        "    dogsvcats = DogsVCats()\n",
        "    dogsvcats.make_training_data()\n"
      ],
      "execution_count": 58,
      "outputs": [
        {
          "output_type": "stream",
          "text": [
            "\r  0%|          | 0/12501 [00:00<?, ?it/s]"
          ],
          "name": "stderr"
        },
        {
          "output_type": "stream",
          "text": [
            "drive/MyDrive/Colab Notebooks/datasets/PetImages/Cat\n"
          ],
          "name": "stdout"
        },
        {
          "output_type": "stream",
          "text": [
            "100%|██████████| 12501/12501 [00:51<00:00, 242.67it/s]\n",
            "  0%|          | 0/12501 [00:00<?, ?it/s]"
          ],
          "name": "stderr"
        },
        {
          "output_type": "stream",
          "text": [
            "drive/MyDrive/Colab Notebooks/datasets/PetImages/Dog\n"
          ],
          "name": "stdout"
        },
        {
          "output_type": "stream",
          "text": [
            "100%|██████████| 12501/12501 [00:51<00:00, 242.28it/s]\n"
          ],
          "name": "stderr"
        },
        {
          "output_type": "stream",
          "text": [
            "Cats:  12476\n",
            "Dogs:  12470\n"
          ],
          "name": "stdout"
        }
      ]
    },
    {
      "cell_type": "code",
      "metadata": {
        "id": "o76500BwTC70"
      },
      "source": [
        "training_data = np.load(\"training_data.npy\", allow_pickle=True)"
      ],
      "execution_count": 57,
      "outputs": []
    },
    {
      "cell_type": "code",
      "metadata": {
        "colab": {
          "base_uri": "https://localhost:8080/"
        },
        "id": "9FmpERT9mEhA",
        "outputId": "c00e0f28-48d4-4a54-ef94-182644221a21"
      },
      "source": [
        "print(len(training_data))\n",
        "print(training_data.shape)"
      ],
      "execution_count": 59,
      "outputs": [
        {
          "output_type": "stream",
          "text": [
            "24946\n",
            "(24946, 2)\n"
          ],
          "name": "stdout"
        }
      ]
    },
    {
      "cell_type": "code",
      "metadata": {
        "id": "ui5FgfygmQyu"
      },
      "source": [
        "import torch\n",
        "import torch.nn as nn\n",
        "import torch.nn.functional as F\n",
        "import torch.optim as optim\n",
        "\n",
        "class Net(nn.Module):\n",
        "    def __init__(self):\n",
        "        super().__init__()\n",
        "        self.conv1 = nn.Conv2d(1, 32, 5) #Input, Output, Kernel size\n",
        "        self.conv2 = nn.Conv2d(32, 64, 5)\n",
        "        self.conv3 = nn.Conv2d(64, 128, 5)\n",
        "\n",
        "        self.fc1 = nn.Linear(128*8*8,512)\n",
        "        self.fc2 = nn.Linear(512,2)\n",
        "\n",
        "        #x = torch.randn(50,50).view(-1,1,50,50)\n",
        "        #self._to_linear = None\n",
        "\n",
        "    def forward(self, x):\n",
        "        x = self.conv1(x) #Output is (32 x 46 x 46)\n",
        "        x = F.relu(x)\n",
        "        x = self.conv2(x) #Output is (64 x 42 x 42)\n",
        "        x = F.relu(x)\n",
        "        x = F.max_pool2d(x,2) #Output is (64 x 21 x 21)\n",
        "        x = self.conv3(x)     #Output is (128 x 17 x 17)\n",
        "        x = F.relu(x)\n",
        "        x = F.max_pool2d(x,2) #Output is (128 x 8 x 8)\n",
        "        x = torch.flatten(x,1) \n",
        "        x = self.fc1(x)\n",
        "        x = F.relu(x)\n",
        "        x = self.fc2(x)\n",
        "        x = F.log_softmax(x, dim=1)\n",
        "        return x\n",
        "\n",
        "net = Net()"
      ],
      "execution_count": 60,
      "outputs": []
    },
    {
      "cell_type": "code",
      "metadata": {
        "colab": {
          "base_uri": "https://localhost:8080/"
        },
        "id": "QFd9bDjgDkTL",
        "outputId": "e00aa883-04ae-4d6b-cd91-0ee08e08244d"
      },
      "source": [
        "optimizer = optim.Adam(net.parameters(), lr= 0.001)\n",
        "loss_function = nn.MSELoss()\n",
        "\n",
        "X = torch.Tensor([i[0] for i in training_data]).view(-1,50,50)\n",
        "X = X/255.0\n",
        "y = torch.Tensor([i[1] for i in training_data])\n",
        "\n",
        "Val_Pct = 0.1\n",
        "val_size = int(len(X)*Val_Pct)\n",
        "print(val_size)"
      ],
      "execution_count": 62,
      "outputs": [
        {
          "output_type": "stream",
          "text": [
            "2494\n"
          ],
          "name": "stdout"
        }
      ]
    },
    {
      "cell_type": "code",
      "metadata": {
        "colab": {
          "base_uri": "https://localhost:8080/"
        },
        "id": "d_FzVNwTlo5n",
        "outputId": "d4845af0-bdb5-4b4d-ed94-39e81f2e1420"
      },
      "source": [
        "train_X = X[:-val_size]\n",
        "train_y = y[:-val_size]\n",
        "\n",
        "test_X = X[-val_size:]\n",
        "test_y = y[-val_size:]\n",
        "\n",
        "print(len(train_X))\n",
        "print(len(test_X))"
      ],
      "execution_count": 63,
      "outputs": [
        {
          "output_type": "stream",
          "text": [
            "22452\n",
            "2494\n"
          ],
          "name": "stdout"
        }
      ]
    },
    {
      "cell_type": "code",
      "metadata": {
        "colab": {
          "base_uri": "https://localhost:8080/"
        },
        "id": "M0N9cIfdmtqy",
        "outputId": "0c2bcc34-910a-4c18-b9ab-86dd4a021e1a"
      },
      "source": [
        "batch_size = 100\n",
        "EPOCHS = 1\n",
        "\n",
        "for epoch in range(EPOCHS):\n",
        "    for i in tqdm(range(0, len(train_X),batch_size)):\n",
        "        #print(i, i+batch_size) \n",
        "        batch_X = train_X[i:i+batch_size].view(-1,1,50,50)\n",
        "        batch_y = train_y[i:i+batch_size]\n",
        "\n",
        "        net.zero_grad()\n",
        "        outputs = net(batch_X)\n",
        "        loss = loss_function(outputs, batch_y)\n",
        "        loss.backward()\n",
        "        optimizer.step()\n"
      ],
      "execution_count": 65,
      "outputs": [
        {
          "output_type": "stream",
          "text": [
            "100%|██████████| 225/225 [06:55<00:00,  1.85s/it]"
          ],
          "name": "stderr"
        },
        {
          "output_type": "stream",
          "text": [
            "tensor(1.6711, grad_fn=<MseLossBackward>)\n"
          ],
          "name": "stdout"
        },
        {
          "output_type": "stream",
          "text": [
            "\n"
          ],
          "name": "stderr"
        }
      ]
    },
    {
      "cell_type": "code",
      "metadata": {
        "colab": {
          "base_uri": "https://localhost:8080/"
        },
        "id": "yAjliAzPrtHf",
        "outputId": "88adc1fd-7cda-4d8a-c127-a4ad844552ec"
      },
      "source": [
        "print(loss)"
      ],
      "execution_count": 66,
      "outputs": [
        {
          "output_type": "stream",
          "text": [
            "tensor(1.6711, grad_fn=<MseLossBackward>)\n"
          ],
          "name": "stdout"
        }
      ]
    },
    {
      "cell_type": "code",
      "metadata": {
        "colab": {
          "base_uri": "https://localhost:8080/"
        },
        "id": "h1NgFtGXoBFb",
        "outputId": "6b9e36c9-e60f-40d0-a8de-b735d746a81b"
      },
      "source": [
        "correct = 0\n",
        "total = 0\n",
        "with torch.no_grad():\n",
        "    for i in tqdm(range(len(test_X))):\n",
        "        real_class = torch.argmax(test_y[i])\n",
        "        net_out = net(test_X[i].view(-1,1,50,50))[0]\n",
        "\n",
        "        predicted_class = torch.argmax(net_out)\n",
        "        if predicted_class == real_class:\n",
        "            correct += 1\n",
        "        total += 1\n",
        "\n",
        "print(\"Accuracy:\", round(correct/total,3))\n"
      ],
      "execution_count": 67,
      "outputs": [
        {
          "output_type": "stream",
          "text": [
            "100%|██████████| 2494/2494 [00:20<00:00, 120.85it/s]"
          ],
          "name": "stderr"
        },
        {
          "output_type": "stream",
          "text": [
            "Accuracy: 0.583\n"
          ],
          "name": "stdout"
        },
        {
          "output_type": "stream",
          "text": [
            "\n"
          ],
          "name": "stderr"
        }
      ]
    },
    {
      "cell_type": "code",
      "metadata": {
        "id": "PFoaZl_4scfg"
      },
      "source": [
        ""
      ],
      "execution_count": null,
      "outputs": []
    }
  ]
}