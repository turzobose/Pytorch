{
  "nbformat": 4,
  "nbformat_minor": 0,
  "metadata": {
    "colab": {
      "name": "7. Training ConvNet on GPU.ipynb",
      "provenance": [],
      "collapsed_sections": [],
      "authorship_tag": "ABX9TyMAAK/DctFeC0+EI8ONVgeH"
    },
    "kernelspec": {
      "name": "python3",
      "display_name": "Python 3"
    },
    "accelerator": "GPU"
  },
  "cells": [
    {
      "cell_type": "code",
      "metadata": {
        "colab": {
          "base_uri": "https://localhost:8080/"
        },
        "id": "IYCO0szgX_pi",
        "outputId": "d3982215-ac51-47d9-f08b-30e3660501d5"
      },
      "source": [
        "from google.colab import drive\n",
        "drive.mount('/content/drive')"
      ],
      "execution_count": 2,
      "outputs": [
        {
          "output_type": "stream",
          "text": [
            "Mounted at /content/drive\n"
          ],
          "name": "stdout"
        }
      ]
    },
    {
      "cell_type": "code",
      "metadata": {
        "id": "lLznNWHZe5o_"
      },
      "source": [
        "#!unzip \"drive/MyDrive/Colab Notebooks/datasets/kagglecatsanddogs_3367a.zip\" -d \"drive/MyDrive/Colab Notebooks/datasets/\" -y"
      ],
      "execution_count": null,
      "outputs": []
    },
    {
      "cell_type": "code",
      "metadata": {
        "id": "NGY078zLLkBR"
      },
      "source": [
        "import cv2, os\n",
        "import numpy as np\n",
        "from tqdm import tqdm\n",
        "\n",
        "REBUILD_DATA = False\n",
        "\n",
        "class DogsVCats():\n",
        "    img_size = 50\n",
        "    cats = \"drive/MyDrive/Colab Notebooks/datasets/PetImages/Cat\"\n",
        "    dogs = \"drive/MyDrive/Colab Notebooks/datasets/PetImages/Dog\"\n",
        "    labels = {cats: 0, dogs: 1}\n",
        "\n",
        "    training_data = []\n",
        "    catcount = 0\n",
        "    dogcount = 0\n",
        "\n",
        "    def make_training_data(self):\n",
        "        for label in self.labels:\n",
        "            print(label)\n",
        "            for image in tqdm(os.listdir(label)):\n",
        "                try:\n",
        "                    path = os.path.join(label, image)\n",
        "                    img = cv2.imread(path, cv2.IMREAD_GRAYSCALE)\n",
        "                    img = cv2.resize(img, (self.img_size, self.img_size))\n",
        "                    self.training_data.append([np.array(img), \n",
        "                                              np.eye(2)[self.labels[label]]])\n",
        "                    \n",
        "                    if label == self.cats:\n",
        "                      self.catcount += 1\n",
        "                    elif label == self.dogs:\n",
        "                      self.dogcount += 1\n",
        "                \n",
        "                except Exception as e:\n",
        "                    pass\n",
        "        \n",
        "        np.random.shuffle(self.training_data)\n",
        "        np.save(\"drive/MyDrive/Colab Notebooks/datasets/training_data.npy\", self.training_data)\n",
        "        print(\"Cats: \", self.catcount)\n",
        "        print(\"Dogs: \", self.dogcount)\n",
        "\n",
        "if REBUILD_DATA:\n",
        "    dogsvcats = DogsVCats()\n",
        "    dogsvcats.make_training_data()\n"
      ],
      "execution_count": 4,
      "outputs": []
    },
    {
      "cell_type": "code",
      "metadata": {
        "id": "o76500BwTC70"
      },
      "source": [
        "training_data = np.load(\"drive/MyDrive/Colab Notebooks/datasets/training_data.npy\", allow_pickle=True)"
      ],
      "execution_count": 5,
      "outputs": []
    },
    {
      "cell_type": "code",
      "metadata": {
        "colab": {
          "base_uri": "https://localhost:8080/"
        },
        "id": "9FmpERT9mEhA",
        "outputId": "40d8b6a3-89b5-44a2-cecb-24e66cc10a43"
      },
      "source": [
        "print(len(training_data))\n",
        "print(training_data.shape)"
      ],
      "execution_count": 6,
      "outputs": [
        {
          "output_type": "stream",
          "text": [
            "24946\n",
            "(24946, 2)\n"
          ],
          "name": "stdout"
        }
      ]
    },
    {
      "cell_type": "code",
      "metadata": {
        "id": "ui5FgfygmQyu",
        "colab": {
          "base_uri": "https://localhost:8080/"
        },
        "outputId": "a78d8fcf-ade2-4fe3-e557-e2146597503a"
      },
      "source": [
        "import torch\n",
        "import torch.nn as nn\n",
        "import torch.nn.functional as F\n",
        "import torch.optim as optim\n",
        "\n",
        "if torch.cuda.is_available():\n",
        "    device = torch.device(\"cuda:0\")\n",
        "    print(\"Running on GPU\")\n",
        "else:\n",
        "    device = torch.device(\"cpu\")\n",
        "    print(\"Running on CPU\")\n",
        "\n",
        "class Net(nn.Module):\n",
        "    def __init__(self):\n",
        "        super().__init__()\n",
        "        self.conv1 = nn.Conv2d(1, 32, 5) #Input, Output, Kernel size\n",
        "        self.conv2 = nn.Conv2d(32, 64, 5)\n",
        "        self.conv3 = nn.Conv2d(64, 128, 5)\n",
        "\n",
        "        self.fc1 = nn.Linear(128*8*8,512)\n",
        "        self.fc2 = nn.Linear(512,2)\n",
        "\n",
        "        #x = torch.randn(50,50).view(-1,1,50,50)\n",
        "        #self._to_linear = None\n",
        "\n",
        "    def forward(self, x):\n",
        "        x = self.conv1(x) #Output is (32 x 46 x 46)\n",
        "        x = F.relu(x)\n",
        "        x = self.conv2(x) #Output is (64 x 42 x 42)\n",
        "        x = F.relu(x)\n",
        "        x = F.max_pool2d(x,2) #Output is (64 x 21 x 21)\n",
        "        x = self.conv3(x)     #Output is (128 x 17 x 17)\n",
        "        x = F.relu(x)\n",
        "        x = F.max_pool2d(x,2) #Output is (128 x 8 x 8)\n",
        "        x = torch.flatten(x,1) \n",
        "        x = self.fc1(x)\n",
        "        x = F.relu(x)\n",
        "        x = self.fc2(x)\n",
        "        x = F.log_softmax(x, dim=1)\n",
        "        return x\n",
        "\n",
        "optimizer = optim.Adam(net.parameters(), lr= 0.001)\n",
        "loss_function = nn.MSELoss()\n",
        "\n",
        "X = torch.Tensor([i[0] for i in training_data]).view(-1,50,50)\n",
        "X = X/255.0\n",
        "y = torch.Tensor([i[1] for i in training_data])\n",
        "\n",
        "Val_Pct = 0.1\n",
        "val_size = int(len(X)*Val_Pct)\n",
        "#print(val_size)\n",
        "\n",
        "train_X = X[:-val_size]\n",
        "train_y = y[:-val_size]\n",
        "\n",
        "test_X = X[-val_size:]\n",
        "test_y = y[-val_size:]\n",
        "\n",
        "#print(len(train_X))\n",
        "#print(len(test_X))\n",
        "\n",
        "net = Net().to(device)\n",
        "\n",
        "def train(net):\n",
        "  batch_size = 100\n",
        "  EPOCHS = 10\n",
        "\n",
        "  for epoch in range(EPOCHS):\n",
        "    for i in tqdm(range(0, len(train_X),batch_size)):\n",
        "        #print(i, i+batch_size) \n",
        "        batch_X = train_X[i:i+batch_size].view(-1,1,50,50).to(device)\n",
        "        batch_y = train_y[i:i+batch_size].to(device)\n",
        "\n",
        "        net.zero_grad()\n",
        "        outputs = net(batch_X)\n",
        "        loss = loss_function(outputs, batch_y)\n",
        "        loss.backward()\n",
        "        optimizer.step() # Does the update\n",
        "\n",
        "    print(f\"Epoch: {epoch}, loss: {loss}\")\n",
        "\n",
        "def test(net):\n",
        "  correct = 0\n",
        "  total = 0\n",
        "  with torch.no_grad():\n",
        "      for i in tqdm(range(len(test_X))):\n",
        "          real_class = torch.argmax(test_y[i]).to(device)\n",
        "          net_out = net(test_X[i].view(-1,1,50,50).to(device))[0]\n",
        "\n",
        "          predicted_class = torch.argmax(net_out)\n",
        "          if predicted_class == real_class:\n",
        "              correct += 1\n",
        "          total += 1\n",
        "\n",
        "  print(\"Accuracy:\", round(correct/total,3))\n",
        "\n",
        "\n",
        "train(net)\n",
        "test(net)"
      ],
      "execution_count": 26,
      "outputs": [
        {
          "output_type": "stream",
          "text": [
            "Running on GPU\n"
          ],
          "name": "stdout"
        },
        {
          "output_type": "stream",
          "text": [
            "100%|██████████| 225/225 [00:06<00:00, 37.01it/s]\n",
            "  2%|▏         | 5/225 [00:00<00:04, 45.01it/s]"
          ],
          "name": "stderr"
        },
        {
          "output_type": "stream",
          "text": [
            "Epoch: 0, loss: 1.6750696897506714\n"
          ],
          "name": "stdout"
        },
        {
          "output_type": "stream",
          "text": [
            "100%|██████████| 225/225 [00:06<00:00, 37.12it/s]\n",
            "  2%|▏         | 5/225 [00:00<00:05, 43.96it/s]"
          ],
          "name": "stderr"
        },
        {
          "output_type": "stream",
          "text": [
            "Epoch: 1, loss: 1.6750696897506714\n"
          ],
          "name": "stdout"
        },
        {
          "output_type": "stream",
          "text": [
            "100%|██████████| 225/225 [00:06<00:00, 36.79it/s]\n",
            "  2%|▏         | 5/225 [00:00<00:04, 44.37it/s]"
          ],
          "name": "stderr"
        },
        {
          "output_type": "stream",
          "text": [
            "Epoch: 2, loss: 1.6750696897506714\n"
          ],
          "name": "stdout"
        },
        {
          "output_type": "stream",
          "text": [
            "100%|██████████| 225/225 [00:06<00:00, 36.55it/s]\n",
            "  2%|▏         | 5/225 [00:00<00:05, 43.71it/s]"
          ],
          "name": "stderr"
        },
        {
          "output_type": "stream",
          "text": [
            "Epoch: 3, loss: 1.6750696897506714\n"
          ],
          "name": "stdout"
        },
        {
          "output_type": "stream",
          "text": [
            "100%|██████████| 225/225 [00:06<00:00, 36.57it/s]\n",
            "  2%|▏         | 5/225 [00:00<00:04, 44.09it/s]"
          ],
          "name": "stderr"
        },
        {
          "output_type": "stream",
          "text": [
            "Epoch: 4, loss: 1.6750696897506714\n"
          ],
          "name": "stdout"
        },
        {
          "output_type": "stream",
          "text": [
            "100%|██████████| 225/225 [00:06<00:00, 36.89it/s]\n",
            "  2%|▏         | 5/225 [00:00<00:04, 45.02it/s]"
          ],
          "name": "stderr"
        },
        {
          "output_type": "stream",
          "text": [
            "Epoch: 5, loss: 1.6750696897506714\n"
          ],
          "name": "stdout"
        },
        {
          "output_type": "stream",
          "text": [
            "100%|██████████| 225/225 [00:06<00:00, 37.14it/s]\n",
            "  2%|▏         | 5/225 [00:00<00:04, 45.06it/s]"
          ],
          "name": "stderr"
        },
        {
          "output_type": "stream",
          "text": [
            "Epoch: 6, loss: 1.6750696897506714\n"
          ],
          "name": "stdout"
        },
        {
          "output_type": "stream",
          "text": [
            "100%|██████████| 225/225 [00:06<00:00, 37.23it/s]\n",
            "  2%|▏         | 5/225 [00:00<00:04, 45.50it/s]"
          ],
          "name": "stderr"
        },
        {
          "output_type": "stream",
          "text": [
            "Epoch: 7, loss: 1.6750696897506714\n"
          ],
          "name": "stdout"
        },
        {
          "output_type": "stream",
          "text": [
            "100%|██████████| 225/225 [00:06<00:00, 37.39it/s]\n",
            "  2%|▏         | 5/225 [00:00<00:04, 45.22it/s]"
          ],
          "name": "stderr"
        },
        {
          "output_type": "stream",
          "text": [
            "Epoch: 8, loss: 1.6750696897506714\n"
          ],
          "name": "stdout"
        },
        {
          "output_type": "stream",
          "text": [
            "100%|██████████| 225/225 [00:06<00:00, 37.49it/s]\n",
            " 12%|█▏        | 305/2494 [00:00<00:01, 1509.72it/s]"
          ],
          "name": "stderr"
        },
        {
          "output_type": "stream",
          "text": [
            "Epoch: 9, loss: 1.6750696897506714\n"
          ],
          "name": "stdout"
        },
        {
          "output_type": "stream",
          "text": [
            "100%|██████████| 2494/2494 [00:01<00:00, 1498.42it/s]"
          ],
          "name": "stderr"
        },
        {
          "output_type": "stream",
          "text": [
            "Accuracy: 0.495\n"
          ],
          "name": "stdout"
        },
        {
          "output_type": "stream",
          "text": [
            "\n"
          ],
          "name": "stderr"
        }
      ]
    },
    {
      "cell_type": "code",
      "metadata": {
        "colab": {
          "base_uri": "https://localhost:8080/"
        },
        "id": "PFoaZl_4scfg",
        "outputId": "00aada25-a770-4aac-cab6-a25a14dbd647"
      },
      "source": [
        "torch.cuda.is_available()\n",
        "torch.cuda.device_count()"
      ],
      "execution_count": 13,
      "outputs": [
        {
          "output_type": "execute_result",
          "data": {
            "text/plain": [
              "1"
            ]
          },
          "metadata": {
            "tags": []
          },
          "execution_count": 13
        }
      ]
    },
    {
      "cell_type": "code",
      "metadata": {
        "colab": {
          "base_uri": "https://localhost:8080/"
        },
        "id": "Oqhw5xYuuIZ0",
        "outputId": "6aab265a-8b8c-4008-9c60-48c1f997ca73"
      },
      "source": [
        "device = torch.device(\"cuda:0\")"
      ],
      "execution_count": 11,
      "outputs": [
        {
          "output_type": "execute_result",
          "data": {
            "text/plain": [
              "device(type='cuda', index=0)"
            ]
          },
          "metadata": {
            "tags": []
          },
          "execution_count": 11
        }
      ]
    },
    {
      "cell_type": "code",
      "metadata": {
        "colab": {
          "base_uri": "https://localhost:8080/"
        },
        "id": "sq_p-4Vfvo9z",
        "outputId": "218e8f35-4894-460e-f942-c424a300aeea"
      },
      "source": [
        "net.to(device)"
      ],
      "execution_count": 25,
      "outputs": [
        {
          "output_type": "execute_result",
          "data": {
            "text/plain": [
              "Net(\n",
              "  (conv1): Conv2d(1, 32, kernel_size=(5, 5), stride=(1, 1))\n",
              "  (conv2): Conv2d(32, 64, kernel_size=(5, 5), stride=(1, 1))\n",
              "  (conv3): Conv2d(64, 128, kernel_size=(5, 5), stride=(1, 1))\n",
              "  (fc1): Linear(in_features=8192, out_features=512, bias=True)\n",
              "  (fc2): Linear(in_features=512, out_features=2, bias=True)\n",
              ")"
            ]
          },
          "metadata": {
            "tags": []
          },
          "execution_count": 25
        }
      ]
    }
  ]
}