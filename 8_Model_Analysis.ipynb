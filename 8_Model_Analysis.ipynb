{
  "nbformat": 4,
  "nbformat_minor": 0,
  "metadata": {
    "colab": {
      "name": "8. Model Analysis.ipynb",
      "provenance": [],
      "collapsed_sections": [],
      "authorship_tag": "ABX9TyN9+o+vuC0X2l9fCAZhsNIL"
    },
    "kernelspec": {
      "name": "python3",
      "display_name": "Python 3"
    },
    "accelerator": "GPU"
  },
  "cells": [
    {
      "cell_type": "code",
      "metadata": {
        "colab": {
          "base_uri": "https://localhost:8080/"
        },
        "id": "8yQ3XzEcFKqJ",
        "outputId": "6adc5df4-0f58-46b0-ff9e-22b87c61b2e3"
      },
      "source": [
        "from google.colab import drive\n",
        "drive.mount('/content/drive')"
      ],
      "execution_count": 1,
      "outputs": [
        {
          "output_type": "stream",
          "text": [
            "Mounted at /content/drive\n"
          ],
          "name": "stdout"
        }
      ]
    },
    {
      "cell_type": "code",
      "metadata": {
        "colab": {
          "base_uri": "https://localhost:8080/"
        },
        "id": "8MNz-GCNGQjE",
        "outputId": "e0892c01-1950-4ea9-fca9-1bc12851d50a"
      },
      "source": [
        "import cv2, os\n",
        "import numpy as np\n",
        "from tqdm import tqdm\n",
        "import torch\n",
        "import torch.nn as nn\n",
        "import torch.nn.functional as F\n",
        "import torch.optim as optim\n",
        "\n",
        "REBUILD_DATA = False   #Toggle switch to create data\n",
        "\n",
        "class DogsVCats():  #Data loader\n",
        "    img_size = 50\n",
        "    cats = \"drive/MyDrive/Colab Notebooks/datasets/PetImages/Cat\"\n",
        "    dogs = \"drive/MyDrive/Colab Notebooks/datasets/PetImages/Dog\"\n",
        "    labels = {cats: 0, dogs: 1}\n",
        "\n",
        "    training_data = []\n",
        "    catcount = 0\n",
        "    dogcount = 0\n",
        "\n",
        "    def make_training_data(self):  #Data prep, shuffle and training data creation\n",
        "        for label in self.labels:\n",
        "            print(label)\n",
        "            for image in tqdm(os.listdir(label)):\n",
        "                try:\n",
        "                    path = os.path.join(label, image)\n",
        "                    img = cv2.imread(path, cv2.IMREAD_GRAYSCALE)\n",
        "                    img = cv2.resize(img, (self.img_size, self.img_size))\n",
        "                    self.training_data.append([np.array(img), \n",
        "                                              np.eye(2)[self.labels[label]]])\n",
        "                    \n",
        "                    if label == self.cats:\n",
        "                      self.catcount += 1\n",
        "                    elif label == self.dogs:\n",
        "                      self.dogcount += 1\n",
        "                \n",
        "                except Exception as e:\n",
        "                    pass\n",
        "        \n",
        "        np.random.shuffle(self.training_data)\n",
        "        np.save(\"drive/MyDrive/Colab Notebooks/datasets/training_data.npy\", self.training_data)\n",
        "        print(\"Cats: \", self.catcount)\n",
        "        print(\"Dogs: \", self.dogcount)\n",
        "\n",
        "class Net(nn.Module):   #NN Architecture\n",
        "    def __init__(self):\n",
        "        super().__init__()\n",
        "        self.conv1 = nn.Conv2d(1, 32, 5) #Input, Output, Kernel size\n",
        "        self.conv2 = nn.Conv2d(32, 64, 5)\n",
        "        self.conv3 = nn.Conv2d(64, 128, 5)\n",
        "\n",
        "        self.fc1 = nn.Linear(128*8*8,512)\n",
        "        self.fc2 = nn.Linear(512,2)\n",
        "\n",
        "        #x = torch.randn(50,50).view(-1,1,50,50)\n",
        "        #self._to_linear = None\n",
        "\n",
        "    def forward(self, x):\n",
        "        x = self.conv1(x) #Output is (32 x 46 x 46)\n",
        "        x = F.relu(x)\n",
        "        x = self.conv2(x) #Output is (64 x 42 x 42)\n",
        "        x = F.relu(x)\n",
        "        x = F.max_pool2d(x,2) #Output is (64 x 21 x 21)\n",
        "        x = self.conv3(x)     #Output is (128 x 17 x 17)\n",
        "        x = F.relu(x)\n",
        "        x = F.max_pool2d(x,2) #Output is (128 x 8 x 8)\n",
        "        x = torch.flatten(x,1) \n",
        "        x = self.fc1(x)\n",
        "        x = F.relu(x)\n",
        "        x = self.fc2(x)\n",
        "        x = F.softmax(x, dim=1) #Training with Softmax gives an accuracy of 76.3%, whereas log_softmax gets stuck at 50%\n",
        "        return x\n",
        "\n",
        "if torch.cuda.is_available():   #Checking GPU or CPU\n",
        "    device = torch.device(\"cuda:0\")\n",
        "    print(\"Running on GPU\")\n",
        "else:\n",
        "    device = torch.device(\"cpu\")\n",
        "    print(\"Running on CPU\")\n",
        "\n",
        "net = Net().to(device)\n",
        "\n",
        "if REBUILD_DATA:\n",
        "    dogsvcats = DogsVCats()\n",
        "    dogsvcats.make_training_data()\n",
        "\n",
        "training_data = np.load(\"drive/MyDrive/Colab Notebooks/datasets/training_data.npy\", allow_pickle=True)\n",
        "#print(len(training_data))\n",
        "\n",
        "optimizer = optim.Adam(net.parameters(), lr= 0.001)\n",
        "loss_function = nn.MSELoss()\n",
        "\n",
        "X = torch.Tensor([i[0] for i in training_data]).view(-1,50,50)\n",
        "X = X/255.0\n",
        "y = torch.Tensor([i[1] for i in training_data])\n",
        "\n",
        "Val_Pct = 0.1\n",
        "val_size = int(len(X)*Val_Pct)\n",
        "print(\"Validation test size:\", val_size)\n",
        "\n",
        "train_X = X[:-val_size]\n",
        "train_y = y[:-val_size]\n",
        "\n",
        "test_X = X[-val_size:]\n",
        "test_y = y[-val_size:]\n",
        "\n",
        "print(\"Training Sample Size: \", len(train_X))\n",
        "print(\"Testing Sample Size: \",len(test_X))"
      ],
      "execution_count": null,
      "outputs": [
        {
          "output_type": "stream",
          "text": [
            "Running on GPU\n",
            "Validation test size: 2494\n",
            "Training Sample Size:  22452\n",
            "Testing Sample Size:  2494\n"
          ],
          "name": "stdout"
        }
      ]
    },
    {
      "cell_type": "code",
      "metadata": {
        "id": "ci85qU9N4LtV"
      },
      "source": [
        "def forward_pass(X, y, train=False):\n",
        "    if train:\n",
        "        net.zero_grad()\n",
        "    outputs = net(X)\n",
        "    matches = [torch.argmax(i) == torch.argmax(j) for i,j in zip(outputs,y)]\n",
        "    acc = matches.count(True)/len(matches)\n",
        "    loss = loss_function(outputs, y)\n",
        "    \n",
        "    if train:\n",
        "        loss.backward()\n",
        "        optimizer.step()\n",
        "        \n",
        "    return acc, loss"
      ],
      "execution_count": null,
      "outputs": []
    },
    {
      "cell_type": "code",
      "metadata": {
        "colab": {
          "base_uri": "https://localhost:8080/"
        },
        "id": "-zkpyD3V6iG8",
        "outputId": "a487023a-ae6b-4757-fab9-b6dd3f423062"
      },
      "source": [
        "def test(size=32):\n",
        "    random_start = np.random.randint(len(test_X)-size)\n",
        "    X, y = test_X[random_start:random_start+size], test_y[random_start:random_start+size]\n",
        "    with torch.no_grad():  \n",
        "        val_acc, val_loss = forward_pass(X.view(-1,1,50,50).to(device), y.to(device))\n",
        "    return val_acc, val_loss\n",
        "\n",
        "val_acc, val_loss = test(size=32)\n",
        "print(val_acc, val_loss)"
      ],
      "execution_count": null,
      "outputs": [
        {
          "output_type": "stream",
          "text": [
            "0.59375 tensor(0.2471, device='cuda:0')\n"
          ],
          "name": "stdout"
        }
      ]
    },
    {
      "cell_type": "code",
      "metadata": {
        "colab": {
          "base_uri": "https://localhost:8080/"
        },
        "id": "r10PZEWJI1-f",
        "outputId": "326afcd8-c1b0-4926-ce8f-9053395a8654"
      },
      "source": [
        "import time\n",
        "\n",
        "Model_Name = f\"Model-{int(time.time())}\"\n",
        "\n",
        "net = Net().to(device)\n",
        "optimizer = optim.Adam(net.parameters(), lr= 0.001)\n",
        "loss_function = nn.MSELoss()\n",
        "\n",
        "print(Model_Name)\n",
        "\n",
        "def train():\n",
        "    batch_size = 128\n",
        "    EPOCHS = 8\n",
        "\n",
        "    with open(\"model.log\", \"a\") as f:\n",
        "        for epoch in range(EPOCHS):\n",
        "            for i in tqdm(range(0,len(train_X),batch_size)):\n",
        "                batch_X = train_X[i: i+batch_size].view(-1,1,50,50).to(device)\n",
        "                batch_y = train_y[i: i+batch_size].to(device)\n",
        "\n",
        "                acc, loss = forward_pass(batch_X, batch_y, train=True)\n",
        "                if i%50 == 0:\n",
        "                    val_acc, val_loss = test(size=100)\n",
        "                    f.write(f'{Model_Name}, {round(time.time(),3)},{round(float(acc),2)}, {round(float(loss),4)},{round(float(val_acc),2)}, {round(float(val_loss),4)}\\n')\n",
        "\n",
        "train()\n"
      ],
      "execution_count": null,
      "outputs": [
        {
          "output_type": "stream",
          "text": [
            "  2%|▏         | 3/176 [00:00<00:07, 21.68it/s]"
          ],
          "name": "stderr"
        },
        {
          "output_type": "stream",
          "text": [
            "Model-1606659347\n"
          ],
          "name": "stdout"
        },
        {
          "output_type": "stream",
          "text": [
            "100%|██████████| 176/176 [00:06<00:00, 27.56it/s]\n",
            "100%|██████████| 176/176 [00:06<00:00, 27.77it/s]\n",
            "100%|██████████| 176/176 [00:06<00:00, 27.52it/s]\n",
            "100%|██████████| 176/176 [00:06<00:00, 27.78it/s]\n",
            "100%|██████████| 176/176 [00:06<00:00, 27.57it/s]\n",
            "100%|██████████| 176/176 [00:06<00:00, 27.75it/s]\n",
            "100%|██████████| 176/176 [00:06<00:00, 27.80it/s]\n",
            "100%|██████████| 176/176 [00:06<00:00, 27.53it/s]\n"
          ],
          "name": "stderr"
        }
      ]
    },
    {
      "cell_type": "code",
      "metadata": {
        "id": "MagjyGqQQB-t",
        "colab": {
          "base_uri": "https://localhost:8080/",
          "height": 281
        },
        "outputId": "c26d6cf6-e293-402d-861f-25d867aa788d"
      },
      "source": [
        "import matplotlib.pyplot as plt\n",
        "from matplotlib import style\n",
        "%matplotlib inline\n",
        "\n",
        "style.use(\"ggplot\")\n",
        "\n",
        "model_name = \"Model-1606657656\"\n",
        "#model_name = \"Model-1606659347\" #Testing different model logs\n",
        "\n",
        "def create_acc_loss_graph(model_name):\n",
        "    contents = open(\"drive/MyDrive/Colab Notebooks/datasets/model.log\", \"r\").read().split(\"\\n\")\n",
        "    #contents = open(\"model.log\", \"r\").read().split(\"\\n\") #If model is not saved to gdrive\n",
        "\n",
        "    times = []\n",
        "    accuracies = []\n",
        "    losses = []\n",
        "\n",
        "    val_accs = []\n",
        "    val_losses = []\n",
        "    \n",
        "    for c in contents:\n",
        "      if model_name in c:\n",
        "         name, timestamp, acc, loss, val_acc, val_loss = c.split(',')\n",
        "         \n",
        "         times.append(float(timestamp))\n",
        "         accuracies.append(float(acc))\n",
        "         losses.append(float(loss))\n",
        "\n",
        "         val_accs.append(float(val_acc))\n",
        "         val_losses.append(float(val_loss))\n",
        "\n",
        "      \n",
        "      #plt.plot(times, accuracies)\n",
        "      #plt.show()\n",
        "\n",
        "    fig = plt.figure() #for multiple figures\n",
        "\n",
        "    ax1 = plt.subplot2grid((2,1), (0, 0))\n",
        "    ax2 = plt.subplot2grid((2,1), (1, 0), sharex=ax1)\n",
        "\n",
        "    ax1.plot(times, accuracies, label=\"acc\")\n",
        "    ax1.plot(times, val_accs, label=\"val_acc\")\n",
        "    ax1.legend(loc=2)\n",
        "\n",
        "    ax2.plot(times, losses, label=\"loss\")\n",
        "    ax2.plot(times, val_losses, label=\"val_loss\")\n",
        "    ax2.legend(loc=2)\n",
        "\n",
        "    plt.show()\n",
        "\n",
        "      \n",
        "create_acc_loss_graph(model_name)"
      ],
      "execution_count": 3,
      "outputs": [
        {
          "output_type": "display_data",
          "data": {
            "image/png": "[encoded data removed]",
            "text/plain": [
              "<Figure size 432x288 with 2 Axes>"
            ]
          },
          "metadata": {
            "tags": []
          }
        }
      ]
    },
    {
      "cell_type": "markdown",
      "metadata": {
        "id": "vnDxbhtY_oC0"
      },
      "source": [
        "# Overfitting\n",
        "\n",
        "We can clearly see that the training accuracy and validation accuracy is diverging, which is a sign for overfitting. Same is seen for the loss graph too. Hence, training on larger epochs might be a potential solution"
      ]
    }
  ]
}